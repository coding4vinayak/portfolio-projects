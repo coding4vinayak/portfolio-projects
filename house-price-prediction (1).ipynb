{
 "cells": [
  {
   "cell_type": "markdown",
   "id": "090b6c59",
   "metadata": {},
   "source": []
  },
  {
   "cell_type": "code",
   "execution_count": 1,
   "id": "4f7745d1",
   "metadata": {
    "execution": {
     "iopub.execute_input": "2024-01-11T18:40:28.068856Z",
     "iopub.status.busy": "2024-01-11T18:40:28.068498Z",
     "iopub.status.idle": "2024-01-11T18:40:28.073613Z",
     "shell.execute_reply": "2024-01-11T18:40:28.072613Z"
    },
    "id": "ytHtLWhNBNEo",
    "papermill": {
     "duration": 0.029868,
     "end_time": "2024-01-11T18:40:28.075736",
     "exception": false,
     "start_time": "2024-01-11T18:40:28.045868",
     "status": "completed"
    },
    "tags": []
   },
   "outputs": [],
   "source": [
    "#!pip install catboost"
   ]
  },
  {
   "cell_type": "code",
   "execution_count": 2,
   "id": "4869a759",
   "metadata": {
    "execution": {
     "iopub.execute_input": "2024-01-11T18:40:28.120410Z",
     "iopub.status.busy": "2024-01-11T18:40:28.120051Z",
     "iopub.status.idle": "2024-01-11T18:40:28.124156Z",
     "shell.execute_reply": "2024-01-11T18:40:28.123157Z"
    },
    "papermill": {
     "duration": 0.029199,
     "end_time": "2024-01-11T18:40:28.126530",
     "exception": false,
     "start_time": "2024-01-11T18:40:28.097331",
     "status": "completed"
    },
    "tags": []
   },
   "outputs": [],
   "source": [
    "#kaggle competitions download -c house-prices-advanced-regression-techniques"
   ]
  },
  {
   "cell_type": "code",
   "execution_count": 4,
   "id": "b472f8d8",
   "metadata": {
    "execution": {
     "iopub.execute_input": "2024-01-11T18:40:28.173792Z",
     "iopub.status.busy": "2024-01-11T18:40:28.173402Z",
     "iopub.status.idle": "2024-01-11T18:40:34.180346Z",
     "shell.execute_reply": "2024-01-11T18:40:34.179351Z"
    },
    "id": "NYG9HblUAboy",
    "papermill": {
     "duration": 6.033005,
     "end_time": "2024-01-11T18:40:34.182922",
     "exception": false,
     "start_time": "2024-01-11T18:40:28.149917",
     "status": "completed"
    },
    "tags": []
   },
   "outputs": [
    {
     "name": "stdout",
     "output_type": "stream",
     "text": [
      "import-im6.q16: unable to open X server `' @ error/import.c/ImportImageCommand/346.\n"
     ]
    },
    {
     "ename": "ModuleNotFoundError",
     "evalue": "No module named 'pandas'",
     "output_type": "error",
     "traceback": [
      "\u001b[0;31m---------------------------------------------------------------------------\u001b[0m",
      "\u001b[0;31mModuleNotFoundError\u001b[0m                       Traceback (most recent call last)",
      "Cell \u001b[0;32mIn[4], line 2\u001b[0m\n\u001b[1;32m      1\u001b[0m get_ipython()\u001b[38;5;241m.\u001b[39msystem(\u001b[38;5;124m'\u001b[39m\u001b[38;5;124mimport numpy as np\u001b[39m\u001b[38;5;124m'\u001b[39m)\n\u001b[0;32m----> 2\u001b[0m \u001b[38;5;28;01mimport\u001b[39;00m \u001b[38;5;21;01mpandas\u001b[39;00m \u001b[38;5;28;01mas\u001b[39;00m \u001b[38;5;21;01mpd\u001b[39;00m\n\u001b[1;32m      3\u001b[0m \u001b[38;5;28;01mimport\u001b[39;00m \u001b[38;5;21;01mmatplotlib\u001b[39;00m\u001b[38;5;21;01m.\u001b[39;00m\u001b[38;5;21;01mpyplot\u001b[39;00m \u001b[38;5;28;01mas\u001b[39;00m \u001b[38;5;21;01mplt\u001b[39;00m\n\u001b[1;32m      4\u001b[0m \u001b[38;5;28;01mimport\u001b[39;00m \u001b[38;5;21;01mseaborn\u001b[39;00m \u001b[38;5;28;01mas\u001b[39;00m \u001b[38;5;21;01msns\u001b[39;00m\n",
      "\u001b[0;31mModuleNotFoundError\u001b[0m: No module named 'pandas'"
     ]
    }
   ],
   "source": [
    "import numpy as np\n",
    "import pandas as pd\n",
    "import matplotlib.pyplot as plt\n",
    "import seaborn as sns\n",
    "import warnings\n",
    "from catboost import CatBoostRegressor\n",
    "from lightgbm import LGBMRegressor\n",
    "from sklearn.ensemble import RandomForestRegressor, GradientBoostingRegressor\n",
    "from sklearn.exceptions import ConvergenceWarning\n",
    "from sklearn.linear_model import LinearRegression, Ridge, Lasso, ElasticNet\n",
    "from sklearn.neighbors import KNeighborsRegressor\n",
    "from sklearn.svm import SVR\n",
    "from sklearn.tree import DecisionTreeRegressor\n",
    "from xgboost import XGBRegressor\n",
    "from sklearn.preprocessing import LabelEncoder\n",
    "from sklearn.metrics import mean_squared_error\n",
    "from sklearn.linear_model import LinearRegression\n",
    "from sklearn.model_selection import train_test_split, cross_val_score,GridSearchCV\n",
    "warnings.simplefilter(action='ignore', category=FutureWarning)\n",
    "warnings.simplefilter(\"ignore\", category=ConvergenceWarning)"
   ]
  },
  {
   "cell_type": "code",
   "execution_count": null,
   "id": "0a8c0096",
   "metadata": {
    "execution": {
     "iopub.execute_input": "2024-01-11T18:40:34.230212Z",
     "iopub.status.busy": "2024-01-11T18:40:34.229822Z",
     "iopub.status.idle": "2024-01-11T18:40:34.234907Z",
     "shell.execute_reply": "2024-01-11T18:40:34.234030Z"
    },
    "id": "fWY1AOAYBLCN",
    "papermill": {
     "duration": 0.030962,
     "end_time": "2024-01-11T18:40:34.237093",
     "exception": false,
     "start_time": "2024-01-11T18:40:34.206131",
     "status": "completed"
    },
    "tags": []
   },
   "outputs": [],
   "source": [
    "pd.set_option('display.max_columns', None)\n",
    "#pd.set_option('display.max_rows', None)\n",
    "pd.set_option('display.width', None)\n",
    "pd.set_option('display.float_format', lambda x: '%.3f' % x)"
   ]
  },
  {
   "cell_type": "code",
   "execution_count": null,
   "id": "39258750",
   "metadata": {
    "execution": {
     "iopub.execute_input": "2024-01-11T18:40:34.281935Z",
     "iopub.status.busy": "2024-01-11T18:40:34.281565Z",
     "iopub.status.idle": "2024-01-11T18:40:34.442951Z",
     "shell.execute_reply": "2024-01-11T18:40:34.441819Z"
    },
    "id": "eojTzdIXBZic",
    "outputId": "1723cd8c-218d-406a-93b3-af9cff6b48c9",
    "papermill": {
     "duration": 0.185801,
     "end_time": "2024-01-11T18:40:34.445523",
     "exception": false,
     "start_time": "2024-01-11T18:40:34.259722",
     "status": "completed"
    },
    "tags": []
   },
   "outputs": [],
   "source": [
    "train = pd.read_csv(\"/kaggle/input/house-prices-advanced-regression-techniques/train.csv\")\n",
    "test = pd.read_csv(\"/kaggle/input/house-prices-advanced-regression-techniques/test.csv\")\n",
    "df = pd.concat([train, test], ignore_index=True).reset_index(drop=True)\n",
    "df.head()"
   ]
  },
  {
   "cell_type": "code",
   "execution_count": null,
   "id": "7a17210f",
   "metadata": {
    "execution": {
     "iopub.execute_input": "2024-01-11T18:40:34.492818Z",
     "iopub.status.busy": "2024-01-11T18:40:34.492452Z",
     "iopub.status.idle": "2024-01-11T18:40:34.546823Z",
     "shell.execute_reply": "2024-01-11T18:40:34.545655Z"
    },
    "id": "OQcCiE9tbs-3",
    "outputId": "6464439e-35de-40f7-84a1-2776400a8aea",
    "papermill": {
     "duration": 0.080893,
     "end_time": "2024-01-11T18:40:34.549313",
     "exception": false,
     "start_time": "2024-01-11T18:40:34.468420",
     "status": "completed"
    },
    "tags": []
   },
   "outputs": [],
   "source": [
    "df.tail()"
   ]
  },
  {
   "cell_type": "code",
   "execution_count": null,
   "id": "6d5deed6",
   "metadata": {
    "execution": {
     "iopub.execute_input": "2024-01-11T18:40:34.599144Z",
     "iopub.status.busy": "2024-01-11T18:40:34.598386Z",
     "iopub.status.idle": "2024-01-11T18:40:34.605945Z",
     "shell.execute_reply": "2024-01-11T18:40:34.605015Z"
    },
    "id": "cCskHSdReCRx",
    "outputId": "6d3e31a4-2450-4c4b-f435-10d789408764",
    "papermill": {
     "duration": 0.034674,
     "end_time": "2024-01-11T18:40:34.608194",
     "exception": false,
     "start_time": "2024-01-11T18:40:34.573520",
     "status": "completed"
    },
    "tags": []
   },
   "outputs": [],
   "source": [
    "df[\"SalePrice\"].isna().sum()"
   ]
  },
  {
   "cell_type": "code",
   "execution_count": null,
   "id": "34cc9923",
   "metadata": {
    "execution": {
     "iopub.execute_input": "2024-01-11T18:40:34.706626Z",
     "iopub.status.busy": "2024-01-11T18:40:34.705842Z",
     "iopub.status.idle": "2024-01-11T18:40:34.796187Z",
     "shell.execute_reply": "2024-01-11T18:40:34.795035Z"
    },
    "id": "WZ5Fe5fUdd8V",
    "outputId": "b978e72b-b419-4faf-827b-9dba343e9765",
    "papermill": {
     "duration": 0.166981,
     "end_time": "2024-01-11T18:40:34.798514",
     "exception": false,
     "start_time": "2024-01-11T18:40:34.631533",
     "status": "completed"
    },
    "tags": []
   },
   "outputs": [],
   "source": [
    "df.describe().T.tail(1)"
   ]
  },
  {
   "cell_type": "code",
   "execution_count": null,
   "id": "55b36c75",
   "metadata": {
    "execution": {
     "iopub.execute_input": "2024-01-11T18:40:34.847092Z",
     "iopub.status.busy": "2024-01-11T18:40:34.846709Z",
     "iopub.status.idle": "2024-01-11T18:40:34.854309Z",
     "shell.execute_reply": "2024-01-11T18:40:34.853365Z"
    },
    "id": "bl0bS8g0Bc2T",
    "papermill": {
     "duration": 0.034226,
     "end_time": "2024-01-11T18:40:34.856373",
     "exception": false,
     "start_time": "2024-01-11T18:40:34.822147",
     "status": "completed"
    },
    "tags": []
   },
   "outputs": [],
   "source": [
    "def check_df(dataframe):\n",
    "    print(\"##################### Shape #####################\")\n",
    "    print(dataframe.shape)\n",
    "    print(\"##################### Types #####################\")\n",
    "    print(dataframe.dtypes)\n",
    "    print(\"##################### Head #####################\")\n",
    "    print(dataframe.head(3))\n",
    "    print(\"##################### Tail #####################\")\n",
    "    print(dataframe.tail(3))\n",
    "    print(\"##################### NA #####################\")\n",
    "    print(dataframe.isnull().sum())\n",
    "    print(\"##################### Quantiles #####################\")\n",
    "    numeric_columns = dataframe.select_dtypes(include=['number']).columns\n",
    "    print(dataframe[numeric_columns].quantile([0, 0.05, 0.50, 0.95, 0.99, 1]).T)"
   ]
  },
  {
   "cell_type": "code",
   "execution_count": null,
   "id": "340f5409",
   "metadata": {
    "execution": {
     "iopub.execute_input": "2024-01-11T18:40:34.903433Z",
     "iopub.status.busy": "2024-01-11T18:40:34.903079Z",
     "iopub.status.idle": "2024-01-11T18:40:34.973781Z",
     "shell.execute_reply": "2024-01-11T18:40:34.972754Z"
    },
    "id": "9_L7FYfXBpkS",
    "outputId": "e81076bd-95d4-4fa5-d25c-0bb3caa36381",
    "papermill": {
     "duration": 0.098761,
     "end_time": "2024-01-11T18:40:34.977157",
     "exception": false,
     "start_time": "2024-01-11T18:40:34.878396",
     "status": "completed"
    },
    "tags": []
   },
   "outputs": [],
   "source": [
    "check_df(df)"
   ]
  },
  {
   "cell_type": "code",
   "execution_count": null,
   "id": "0c90aa87",
   "metadata": {
    "execution": {
     "iopub.execute_input": "2024-01-11T18:40:35.026532Z",
     "iopub.status.busy": "2024-01-11T18:40:35.026139Z",
     "iopub.status.idle": "2024-01-11T18:40:35.036175Z",
     "shell.execute_reply": "2024-01-11T18:40:35.035209Z"
    },
    "id": "EG6Y48CHBqKJ",
    "papermill": {
     "duration": 0.037584,
     "end_time": "2024-01-11T18:40:35.038323",
     "exception": false,
     "start_time": "2024-01-11T18:40:35.000739",
     "status": "completed"
    },
    "tags": []
   },
   "outputs": [],
   "source": [
    "def grab_col_names(dataframe, cat_th=10, car_th=20):\n",
    "    \"\"\"\n",
    "    grab_col_names for given dataframe\n",
    "\n",
    "    :param dataframe:\n",
    "    :param cat_th:\n",
    "    :param car_th:\n",
    "    :return:\n",
    "    \"\"\"\n",
    "    cat_cols = [col for col in dataframe.columns if dataframe[col].dtypes == \"O\"]\n",
    "\n",
    "    num_but_cat = [col for col in dataframe.columns if dataframe[col].nunique() < cat_th and\n",
    "                   dataframe[col].dtypes != \"O\"]\n",
    "\n",
    "    cat_but_car = [col for col in dataframe.columns if dataframe[col].nunique() > car_th and\n",
    "                   dataframe[col].dtypes == \"O\"]\n",
    "\n",
    "    cat_cols = cat_cols + num_but_cat\n",
    "    cat_cols = [col for col in cat_cols if col not in cat_but_car]\n",
    "\n",
    "    num_cols = [col for col in dataframe.columns if dataframe[col].dtypes != \"O\"]\n",
    "    num_cols = [col for col in num_cols if col not in num_but_cat]\n",
    "\n",
    "    print(f\"Observations: {dataframe.shape[0]}\")\n",
    "    print(f\"Variables: {dataframe.shape[1]}\")\n",
    "    print(f'cat_cols: {len(cat_cols)}')\n",
    "    print(f'num_cols: {len(num_cols)}')\n",
    "    print(f'cat_but_car: {len(cat_but_car)}')\n",
    "    print(f'num_but_cat: {len(num_but_cat)}')\n",
    "    return cat_cols, cat_but_car, num_cols"
   ]
  },
  {
   "cell_type": "code",
   "execution_count": null,
   "id": "992f52bb",
   "metadata": {
    "execution": {
     "iopub.execute_input": "2024-01-11T18:40:35.086523Z",
     "iopub.status.busy": "2024-01-11T18:40:35.086195Z",
     "iopub.status.idle": "2024-01-11T18:40:35.127962Z",
     "shell.execute_reply": "2024-01-11T18:40:35.127053Z"
    },
    "id": "ZcZYvN3KC1nb",
    "outputId": "525feb33-a4ea-4364-eab2-1e006959544e",
    "papermill": {
     "duration": 0.067571,
     "end_time": "2024-01-11T18:40:35.130333",
     "exception": false,
     "start_time": "2024-01-11T18:40:35.062762",
     "status": "completed"
    },
    "tags": []
   },
   "outputs": [],
   "source": [
    "cat_cols, cat_but_car, num_cols = grab_col_names(df)"
   ]
  },
  {
   "cell_type": "code",
   "execution_count": null,
   "id": "4590bbef",
   "metadata": {
    "execution": {
     "iopub.execute_input": "2024-01-11T18:40:35.180021Z",
     "iopub.status.busy": "2024-01-11T18:40:35.179649Z",
     "iopub.status.idle": "2024-01-11T18:40:35.185764Z",
     "shell.execute_reply": "2024-01-11T18:40:35.184854Z"
    },
    "id": "qVYVJ0DCC3uT",
    "papermill": {
     "duration": 0.033643,
     "end_time": "2024-01-11T18:40:35.188016",
     "exception": false,
     "start_time": "2024-01-11T18:40:35.154373",
     "status": "completed"
    },
    "tags": []
   },
   "outputs": [],
   "source": [
    "def cat_summary(dataframe, col_name, plot=False):\n",
    "    print(pd.DataFrame({col_name: dataframe[col_name].value_counts(),\n",
    "                        \"Ratio\": 100 * dataframe[col_name].value_counts() / len(dataframe)}))\n",
    "\n",
    "    if plot:\n",
    "        plt.figure(figsize=(8,6))\n",
    "        sns.countplot(x=dataframe[col_name], data=dataframe)\n",
    "        plt.show()"
   ]
  },
  {
   "cell_type": "code",
   "execution_count": null,
   "id": "3e6a342a",
   "metadata": {
    "execution": {
     "iopub.execute_input": "2024-01-11T18:40:35.237572Z",
     "iopub.status.busy": "2024-01-11T18:40:35.237248Z",
     "iopub.status.idle": "2024-01-11T18:40:48.194966Z",
     "shell.execute_reply": "2024-01-11T18:40:48.194013Z"
    },
    "id": "wbqamoJVDG_x",
    "outputId": "7d2f54bf-d740-466f-a1ca-e6ad9692212d",
    "papermill": {
     "duration": 12.985702,
     "end_time": "2024-01-11T18:40:48.197318",
     "exception": false,
     "start_time": "2024-01-11T18:40:35.211616",
     "status": "completed"
    },
    "tags": []
   },
   "outputs": [],
   "source": [
    "for col in cat_cols:\n",
    "    cat_summary(df, col, True)"
   ]
  },
  {
   "cell_type": "code",
   "execution_count": null,
   "id": "034aa4d7",
   "metadata": {
    "execution": {
     "iopub.execute_input": "2024-01-11T18:40:48.295902Z",
     "iopub.status.busy": "2024-01-11T18:40:48.294968Z",
     "iopub.status.idle": "2024-01-11T18:40:48.305741Z",
     "shell.execute_reply": "2024-01-11T18:40:48.304791Z"
    },
    "id": "-aGy00Ga8q-i",
    "papermill": {
     "duration": 0.062329,
     "end_time": "2024-01-11T18:40:48.308062",
     "exception": false,
     "start_time": "2024-01-11T18:40:48.245733",
     "status": "completed"
    },
    "tags": []
   },
   "outputs": [],
   "source": [
    "def cat_summary(dataframe, col_name, plot=False):\n",
    "    print(pd.DataFrame({col_name: dataframe[col_name].value_counts(),\n",
    "                        \"Ratio\": 100 * dataframe[col_name].value_counts() / len(dataframe)}))\n",
    "\n",
    "    if plot:\n",
    "        fig, axs = plt.subplots(1, 2, figsize=(8, 6))\n",
    "        plt.subplot(1, 2, 1)\n",
    "        sns.countplot(x=dataframe[col_name], data=dataframe)\n",
    "        plt.title(\"Frequency of \" + col_name)\n",
    "        plt.xticks(rotation=90)\n",
    "\n",
    "        plt.subplot(1, 2, 2)\n",
    "        values = dataframe[col_name].value_counts()\n",
    "        plt.pie(x=values, labels=values.index, autopct=lambda p: '{:.2f}% ({:.0f})'.format(p, p/100 * sum(values)))\n",
    "        plt.title(\"Frequency of \" + col_name)\n",
    "        plt.legend(labels=['{} - {:.2f}%'.format(index, value/sum(values)*100) for index, value in zip(values.index, values)],\n",
    "                   loc='upper center', bbox_to_anchor=(0.5, -0.2), fancybox=True, shadow=True, ncol=1)\n",
    "        plt.show(block=True)"
   ]
  },
  {
   "cell_type": "code",
   "execution_count": null,
   "id": "e20e40c8",
   "metadata": {
    "execution": {
     "iopub.execute_input": "2024-01-11T18:40:48.404840Z",
     "iopub.status.busy": "2024-01-11T18:40:48.404050Z",
     "iopub.status.idle": "2024-01-11T18:41:12.114925Z",
     "shell.execute_reply": "2024-01-11T18:41:12.113837Z"
    },
    "id": "u8MlAqI338VZ",
    "outputId": "51947160-0421-48e9-edc6-5c9374dd3ed2",
    "papermill": {
     "duration": 23.760859,
     "end_time": "2024-01-11T18:41:12.117221",
     "exception": false,
     "start_time": "2024-01-11T18:40:48.356362",
     "status": "completed"
    },
    "tags": []
   },
   "outputs": [],
   "source": [
    "for col in cat_cols:\n",
    "    cat_summary(df, col, True)"
   ]
  },
  {
   "cell_type": "code",
   "execution_count": null,
   "id": "733ac5cf",
   "metadata": {
    "execution": {
     "iopub.execute_input": "2024-01-11T18:41:12.327388Z",
     "iopub.status.busy": "2024-01-11T18:41:12.326922Z",
     "iopub.status.idle": "2024-01-11T18:41:12.333830Z",
     "shell.execute_reply": "2024-01-11T18:41:12.332821Z"
    },
    "id": "VQ-iEPPtDI7q",
    "papermill": {
     "duration": 0.112995,
     "end_time": "2024-01-11T18:41:12.336165",
     "exception": false,
     "start_time": "2024-01-11T18:41:12.223170",
     "status": "completed"
    },
    "tags": []
   },
   "outputs": [],
   "source": [
    "def num_summary(dataframe, numerical_col, plot=False):\n",
    "    quantiles = [0.05, 0.10, 0.20, 0.30, 0.40, 0.50, 0.60, 0.70, 0.80, 0.90, 0.95, 0.99]\n",
    "    print(dataframe[numerical_col].describe(quantiles).T)\n",
    "\n",
    "    if plot:\n",
    "        dataframe[numerical_col].hist(bins=50)\n",
    "        plt.xlabel(numerical_col)\n",
    "        plt.title(numerical_col)\n",
    "        plt.show()\n",
    "\n",
    "    print(\"#####################################\")"
   ]
  },
  {
   "cell_type": "code",
   "execution_count": null,
   "id": "a80264f8",
   "metadata": {
    "execution": {
     "iopub.execute_input": "2024-01-11T18:41:12.545487Z",
     "iopub.status.busy": "2024-01-11T18:41:12.545098Z",
     "iopub.status.idle": "2024-01-11T18:41:23.634164Z",
     "shell.execute_reply": "2024-01-11T18:41:23.633032Z"
    },
    "id": "3fhm5EZpErjE",
    "outputId": "d63cfc27-b986-4c96-bd20-7d4e6eb9db77",
    "papermill": {
     "duration": 11.197175,
     "end_time": "2024-01-11T18:41:23.637532",
     "exception": false,
     "start_time": "2024-01-11T18:41:12.440357",
     "status": "completed"
    },
    "tags": []
   },
   "outputs": [],
   "source": [
    "for col in num_cols:\n",
    "    num_summary(df, col, True)"
   ]
  },
  {
   "cell_type": "code",
   "execution_count": null,
   "id": "8ac4006f",
   "metadata": {
    "execution": {
     "iopub.execute_input": "2024-01-11T18:41:23.867761Z",
     "iopub.status.busy": "2024-01-11T18:41:23.867372Z",
     "iopub.status.idle": "2024-01-11T18:41:23.872623Z",
     "shell.execute_reply": "2024-01-11T18:41:23.871604Z"
    },
    "id": "P4bVs4YbEuX4",
    "papermill": {
     "duration": 0.121828,
     "end_time": "2024-01-11T18:41:23.874785",
     "exception": false,
     "start_time": "2024-01-11T18:41:23.752957",
     "status": "completed"
    },
    "tags": []
   },
   "outputs": [],
   "source": [
    "def target_summary_with_cat(dataframe, target, categorical_col):\n",
    "    print(pd.DataFrame({\"TARGET_MEAN\": dataframe.groupby(categorical_col)[target].mean()}), end=\"\\n\\n\\n\")"
   ]
  },
  {
   "cell_type": "code",
   "execution_count": null,
   "id": "e759db6c",
   "metadata": {
    "execution": {
     "iopub.execute_input": "2024-01-11T18:41:24.105909Z",
     "iopub.status.busy": "2024-01-11T18:41:24.104894Z",
     "iopub.status.idle": "2024-01-11T18:41:24.221761Z",
     "shell.execute_reply": "2024-01-11T18:41:24.220512Z"
    },
    "id": "_E23XHuvFZ3G",
    "outputId": "122aaa82-2a72-4d8a-f97f-5b695a8cddb2",
    "papermill": {
     "duration": 0.238077,
     "end_time": "2024-01-11T18:41:24.226138",
     "exception": false,
     "start_time": "2024-01-11T18:41:23.988061",
     "status": "completed"
    },
    "tags": []
   },
   "outputs": [],
   "source": [
    "for col in cat_cols:\n",
    "    target_summary_with_cat(df,\"SalePrice\",col)"
   ]
  },
  {
   "cell_type": "code",
   "execution_count": null,
   "id": "adf25ad8",
   "metadata": {
    "execution": {
     "iopub.execute_input": "2024-01-11T18:41:24.474792Z",
     "iopub.status.busy": "2024-01-11T18:41:24.473710Z",
     "iopub.status.idle": "2024-01-11T18:41:24.825119Z",
     "shell.execute_reply": "2024-01-11T18:41:24.824091Z"
    },
    "id": "v5qFxVIxFbBF",
    "outputId": "c5afb590-1e81-4fb5-cf97-89da29d3b659",
    "papermill": {
     "duration": 0.475706,
     "end_time": "2024-01-11T18:41:24.827375",
     "exception": false,
     "start_time": "2024-01-11T18:41:24.351669",
     "status": "completed"
    },
    "tags": []
   },
   "outputs": [],
   "source": [
    "df[\"SalePrice\"].hist(bins=100)\n",
    "plt.show(block=True)"
   ]
  },
  {
   "cell_type": "code",
   "execution_count": null,
   "id": "e38346b9",
   "metadata": {
    "execution": {
     "iopub.execute_input": "2024-01-11T18:41:25.057416Z",
     "iopub.status.busy": "2024-01-11T18:41:25.057004Z",
     "iopub.status.idle": "2024-01-11T18:41:25.345392Z",
     "shell.execute_reply": "2024-01-11T18:41:25.344182Z"
    },
    "id": "Hgh1k0hUF3db",
    "outputId": "6e6c4907-60bb-486c-b41a-c384f341802a",
    "papermill": {
     "duration": 0.408578,
     "end_time": "2024-01-11T18:41:25.347917",
     "exception": false,
     "start_time": "2024-01-11T18:41:24.939339",
     "status": "completed"
    },
    "tags": []
   },
   "outputs": [],
   "source": [
    "np.log1p(df['SalePrice']).hist(bins=50)\n",
    "plt.show()"
   ]
  },
  {
   "cell_type": "code",
   "execution_count": null,
   "id": "346b509d",
   "metadata": {
    "execution": {
     "iopub.execute_input": "2024-01-11T18:41:25.574743Z",
     "iopub.status.busy": "2024-01-11T18:41:25.574375Z",
     "iopub.status.idle": "2024-01-11T18:41:28.228611Z",
     "shell.execute_reply": "2024-01-11T18:41:28.227561Z"
    },
    "id": "wPvAu2aGGIqA",
    "outputId": "d4d937f1-30f2-4406-d349-d91644da70f9",
    "papermill": {
     "duration": 2.777626,
     "end_time": "2024-01-11T18:41:28.238796",
     "exception": false,
     "start_time": "2024-01-11T18:41:25.461170",
     "status": "completed"
    },
    "tags": []
   },
   "outputs": [],
   "source": [
    "corr = df[num_cols].corr()\n",
    "corr\n",
    "sns.set(rc={'figure.figsize': (18, 10)})\n",
    "sns.heatmap(corr, cmap=\"RdBu\", annot=True, fmt=\".2f\")\n",
    "plt.show()"
   ]
  },
  {
   "cell_type": "code",
   "execution_count": null,
   "id": "662b64b5",
   "metadata": {
    "execution": {
     "iopub.execute_input": "2024-01-11T18:41:28.501083Z",
     "iopub.status.busy": "2024-01-11T18:41:28.499495Z",
     "iopub.status.idle": "2024-01-11T18:41:28.508362Z",
     "shell.execute_reply": "2024-01-11T18:41:28.507343Z"
    },
    "id": "IXkQwTmXGN61",
    "papermill": {
     "duration": 0.141579,
     "end_time": "2024-01-11T18:41:28.510522",
     "exception": false,
     "start_time": "2024-01-11T18:41:28.368943",
     "status": "completed"
    },
    "tags": []
   },
   "outputs": [],
   "source": [
    "\"\"\"def high_correlated_cols(dataframe, plot=False, corr_th=0.70):\n",
    "    corr = dataframe.corr()\n",
    "    cor_matrix = corr.abs()\n",
    "    upper_triangle_matrix = cor_matrix.where(np.triu(np.ones(cor_matrix.shape), k=1).astype(np.bool))\n",
    "    drop_list = [col for col in upper_triangle_matrix.columns if any(upper_triangle_matrix[col] > corr_th)]\n",
    "    if plot:\n",
    "        import seaborn as sns\n",
    "        import matplotlib.pyplot as plt\n",
    "        sns.set(rc={'figure.figsize': (24, 10)})\n",
    "        sns.heatmap(corr, cmap=\"RdBu\",annot=True, fmt=\".2f\")\n",
    "        plt.show()\n",
    "    return drop_list\n",
    "high_correlated_cols(df, plot=True)\"\"\""
   ]
  },
  {
   "cell_type": "code",
   "execution_count": null,
   "id": "76c17eb3",
   "metadata": {
    "execution": {
     "iopub.execute_input": "2024-01-11T18:41:28.766968Z",
     "iopub.status.busy": "2024-01-11T18:41:28.766566Z",
     "iopub.status.idle": "2024-01-11T18:41:28.773050Z",
     "shell.execute_reply": "2024-01-11T18:41:28.771965Z"
    },
    "id": "IexLpotUHLgR",
    "papermill": {
     "duration": 0.138007,
     "end_time": "2024-01-11T18:41:28.775335",
     "exception": false,
     "start_time": "2024-01-11T18:41:28.637328",
     "status": "completed"
    },
    "tags": []
   },
   "outputs": [],
   "source": [
    "def outlier_thresholds(dataframe, variable, low_quantile=0.10, up_quantile=0.90):\n",
    "    quantile_one = dataframe[variable].quantile(low_quantile)\n",
    "    quantile_three = dataframe[variable].quantile(up_quantile)\n",
    "    interquantile_range = quantile_three - quantile_one\n",
    "    up_limit = quantile_three + 1.5 * interquantile_range\n",
    "    low_limit = quantile_one - 1.5 * interquantile_range\n",
    "    return low_limit, up_limit"
   ]
  },
  {
   "cell_type": "code",
   "execution_count": null,
   "id": "868d91a9",
   "metadata": {
    "execution": {
     "iopub.execute_input": "2024-01-11T18:41:29.043622Z",
     "iopub.status.busy": "2024-01-11T18:41:29.042470Z",
     "iopub.status.idle": "2024-01-11T18:41:29.049039Z",
     "shell.execute_reply": "2024-01-11T18:41:29.048035Z"
    },
    "id": "NdUSGVdPHt7F",
    "papermill": {
     "duration": 0.141625,
     "end_time": "2024-01-11T18:41:29.051190",
     "exception": false,
     "start_time": "2024-01-11T18:41:28.909565",
     "status": "completed"
    },
    "tags": []
   },
   "outputs": [],
   "source": [
    "def check_outlier(dataframe, col_name):\n",
    "    low_limit, up_limit = outlier_thresholds(dataframe, col_name)\n",
    "    if dataframe[(dataframe[col_name] > up_limit) | (dataframe[col_name] < low_limit)].any(axis=None):\n",
    "        return True\n",
    "    else:\n",
    "        return False"
   ]
  },
  {
   "cell_type": "code",
   "execution_count": null,
   "id": "1d6bea87",
   "metadata": {
    "execution": {
     "iopub.execute_input": "2024-01-11T18:41:29.313830Z",
     "iopub.status.busy": "2024-01-11T18:41:29.313445Z",
     "iopub.status.idle": "2024-01-11T18:41:29.397594Z",
     "shell.execute_reply": "2024-01-11T18:41:29.396502Z"
    },
    "id": "vsbQG3ZbHxI_",
    "outputId": "5f770147-bad4-402f-d63c-a96a1d678576",
    "papermill": {
     "duration": 0.217886,
     "end_time": "2024-01-11T18:41:29.400391",
     "exception": false,
     "start_time": "2024-01-11T18:41:29.182505",
     "status": "completed"
    },
    "tags": []
   },
   "outputs": [],
   "source": [
    "for col in num_cols:\n",
    "    if col != \"SalePrice\":\n",
    "      print(col, check_outlier(df, col))"
   ]
  },
  {
   "cell_type": "code",
   "execution_count": null,
   "id": "fa689342",
   "metadata": {
    "execution": {
     "iopub.execute_input": "2024-01-11T18:41:29.666689Z",
     "iopub.status.busy": "2024-01-11T18:41:29.666265Z",
     "iopub.status.idle": "2024-01-11T18:41:29.672115Z",
     "shell.execute_reply": "2024-01-11T18:41:29.671187Z"
    },
    "id": "WDuIjqicHzu9",
    "papermill": {
     "duration": 0.138667,
     "end_time": "2024-01-11T18:41:29.674347",
     "exception": false,
     "start_time": "2024-01-11T18:41:29.535680",
     "status": "completed"
    },
    "tags": []
   },
   "outputs": [],
   "source": [
    "def replace_with_thresholds(dataframe, variable):\n",
    "    low_limit, up_limit = outlier_thresholds(dataframe, variable)\n",
    "    dataframe.loc[(dataframe[variable] < low_limit), variable] = low_limit\n",
    "    dataframe.loc[(dataframe[variable] > up_limit), variable] = up_limit"
   ]
  },
  {
   "cell_type": "code",
   "execution_count": null,
   "id": "ccfc1df8",
   "metadata": {
    "execution": {
     "iopub.execute_input": "2024-01-11T18:41:29.932501Z",
     "iopub.status.busy": "2024-01-11T18:41:29.932102Z",
     "iopub.status.idle": "2024-01-11T18:41:30.000934Z",
     "shell.execute_reply": "2024-01-11T18:41:30.000029Z"
    },
    "id": "jYLNBabfH9qu",
    "papermill": {
     "duration": 0.201121,
     "end_time": "2024-01-11T18:41:30.003463",
     "exception": false,
     "start_time": "2024-01-11T18:41:29.802342",
     "status": "completed"
    },
    "tags": []
   },
   "outputs": [],
   "source": [
    "for col in num_cols:\n",
    "    if col != \"SalePrice\":\n",
    "        replace_with_thresholds(df,col)"
   ]
  },
  {
   "cell_type": "code",
   "execution_count": null,
   "id": "743afb71",
   "metadata": {
    "execution": {
     "iopub.execute_input": "2024-01-11T18:41:30.263841Z",
     "iopub.status.busy": "2024-01-11T18:41:30.263452Z",
     "iopub.status.idle": "2024-01-11T18:41:30.271121Z",
     "shell.execute_reply": "2024-01-11T18:41:30.270040Z"
    },
    "id": "uo7hiQ9hH_Pg",
    "papermill": {
     "duration": 0.14106,
     "end_time": "2024-01-11T18:41:30.273347",
     "exception": false,
     "start_time": "2024-01-11T18:41:30.132287",
     "status": "completed"
    },
    "tags": []
   },
   "outputs": [],
   "source": [
    "def missing_values_table(dataframe, na_name=False):\n",
    "    na_columns = [col for col in dataframe.columns if dataframe[col].isnull().sum() > 0]\n",
    "\n",
    "    n_miss = dataframe[na_columns].isnull().sum().sort_values(ascending=False)\n",
    "\n",
    "    ratio = (dataframe[na_columns].isnull().sum() / dataframe.shape[0] * 100).sort_values(ascending=False)\n",
    "\n",
    "    missing_df = pd.concat([n_miss, np.round(ratio, 2)], axis=1, keys=['n_miss', 'ratio'])\n",
    "\n",
    "    print(missing_df, end=\"\\n\")\n",
    "\n",
    "    if na_name:\n",
    "        return na_columns"
   ]
  },
  {
   "cell_type": "code",
   "execution_count": null,
   "id": "f7917aa0",
   "metadata": {
    "execution": {
     "iopub.execute_input": "2024-01-11T18:41:30.534849Z",
     "iopub.status.busy": "2024-01-11T18:41:30.534452Z",
     "iopub.status.idle": "2024-01-11T18:41:30.588996Z",
     "shell.execute_reply": "2024-01-11T18:41:30.587783Z"
    },
    "id": "nZzkFAQLID3S",
    "outputId": "1b145f49-e9f2-4e7c-f7c2-dcf0f7aa41e3",
    "papermill": {
     "duration": 0.188561,
     "end_time": "2024-01-11T18:41:30.591734",
     "exception": false,
     "start_time": "2024-01-11T18:41:30.403173",
     "status": "completed"
    },
    "tags": []
   },
   "outputs": [],
   "source": [
    "missing_values_table(df)\n"
   ]
  },
  {
   "cell_type": "code",
   "execution_count": null,
   "id": "d8aa0972",
   "metadata": {
    "execution": {
     "iopub.execute_input": "2024-01-11T18:41:30.860582Z",
     "iopub.status.busy": "2024-01-11T18:41:30.859865Z",
     "iopub.status.idle": "2024-01-11T18:41:30.868152Z",
     "shell.execute_reply": "2024-01-11T18:41:30.867216Z"
    },
    "id": "veXwYNTjIFX1",
    "outputId": "fec977a4-c0f3-4fa7-f251-89aa672b23b0",
    "papermill": {
     "duration": 0.14378,
     "end_time": "2024-01-11T18:41:30.870429",
     "exception": false,
     "start_time": "2024-01-11T18:41:30.726649",
     "status": "completed"
    },
    "tags": []
   },
   "outputs": [],
   "source": [
    "df[\"Alley\"].value_counts()"
   ]
  },
  {
   "cell_type": "code",
   "execution_count": null,
   "id": "3af767a8",
   "metadata": {
    "execution": {
     "iopub.execute_input": "2024-01-11T18:41:31.126665Z",
     "iopub.status.busy": "2024-01-11T18:41:31.126270Z",
     "iopub.status.idle": "2024-01-11T18:41:31.135125Z",
     "shell.execute_reply": "2024-01-11T18:41:31.134123Z"
    },
    "id": "sa19XkAxIP76",
    "outputId": "845075c2-54d8-4248-d9f8-c66740f0136b",
    "papermill": {
     "duration": 0.139843,
     "end_time": "2024-01-11T18:41:31.137336",
     "exception": false,
     "start_time": "2024-01-11T18:41:30.997493",
     "status": "completed"
    },
    "tags": []
   },
   "outputs": [],
   "source": [
    "df[\"BsmtQual\"].value_counts()"
   ]
  },
  {
   "cell_type": "code",
   "execution_count": null,
   "id": "af69f76e",
   "metadata": {
    "execution": {
     "iopub.execute_input": "2024-01-11T18:41:31.420166Z",
     "iopub.status.busy": "2024-01-11T18:41:31.419575Z",
     "iopub.status.idle": "2024-01-11T18:41:31.426114Z",
     "shell.execute_reply": "2024-01-11T18:41:31.424697Z"
    },
    "id": "JF5L-BN8IRHQ",
    "papermill": {
     "duration": 0.157423,
     "end_time": "2024-01-11T18:41:31.428317",
     "exception": false,
     "start_time": "2024-01-11T18:41:31.270894",
     "status": "completed"
    },
    "tags": []
   },
   "outputs": [],
   "source": [
    "no_cols = [\"Alley\",\"BsmtQual\",\"BsmtCond\",\"BsmtExposure\",\"BsmtFinType1\",\"BsmtFinType2\",\"FireplaceQu\",\n",
    "           \"GarageType\",\"GarageFinish\",\"GarageQual\",\"GarageCond\",\"PoolQC\",\"Fence\",\"MiscFeature\"]"
   ]
  },
  {
   "cell_type": "code",
   "execution_count": null,
   "id": "4294eab2",
   "metadata": {
    "execution": {
     "iopub.execute_input": "2024-01-11T18:41:31.690607Z",
     "iopub.status.busy": "2024-01-11T18:41:31.690201Z",
     "iopub.status.idle": "2024-01-11T18:41:31.706080Z",
     "shell.execute_reply": "2024-01-11T18:41:31.705035Z"
    },
    "id": "44rKZ5EAIhAL",
    "papermill": {
     "duration": 0.150031,
     "end_time": "2024-01-11T18:41:31.708367",
     "exception": false,
     "start_time": "2024-01-11T18:41:31.558336",
     "status": "completed"
    },
    "tags": []
   },
   "outputs": [],
   "source": [
    "for col in no_cols:\n",
    "    df[col].fillna(\"No\",inplace=True)"
   ]
  },
  {
   "cell_type": "code",
   "execution_count": null,
   "id": "0a2b774d",
   "metadata": {
    "execution": {
     "iopub.execute_input": "2024-01-11T18:41:31.962317Z",
     "iopub.status.busy": "2024-01-11T18:41:31.961895Z",
     "iopub.status.idle": "2024-01-11T18:41:32.005199Z",
     "shell.execute_reply": "2024-01-11T18:41:32.004035Z"
    },
    "id": "oqeNQjMKIjA5",
    "outputId": "75b6edba-99cf-4110-aad3-8358a21331d5",
    "papermill": {
     "duration": 0.174358,
     "end_time": "2024-01-11T18:41:32.007630",
     "exception": false,
     "start_time": "2024-01-11T18:41:31.833272",
     "status": "completed"
    },
    "tags": []
   },
   "outputs": [],
   "source": [
    "missing_values_table(df)"
   ]
  },
  {
   "cell_type": "code",
   "execution_count": null,
   "id": "d928554c",
   "metadata": {
    "execution": {
     "iopub.execute_input": "2024-01-11T18:41:32.269879Z",
     "iopub.status.busy": "2024-01-11T18:41:32.269472Z",
     "iopub.status.idle": "2024-01-11T18:41:32.300553Z",
     "shell.execute_reply": "2024-01-11T18:41:32.299443Z"
    },
    "id": "jBhqDYKBegt8",
    "outputId": "4c5b3882-65f5-4c09-d84f-f5ed18609d88",
    "papermill": {
     "duration": 0.166687,
     "end_time": "2024-01-11T18:41:32.303754",
     "exception": false,
     "start_time": "2024-01-11T18:41:32.137067",
     "status": "completed"
    },
    "tags": []
   },
   "outputs": [],
   "source": [
    "df.info()"
   ]
  },
  {
   "cell_type": "code",
   "execution_count": null,
   "id": "6f21cfca",
   "metadata": {
    "execution": {
     "iopub.execute_input": "2024-01-11T18:41:32.570048Z",
     "iopub.status.busy": "2024-01-11T18:41:32.569611Z",
     "iopub.status.idle": "2024-01-11T18:41:32.579817Z",
     "shell.execute_reply": "2024-01-11T18:41:32.578823Z"
    },
    "id": "sMT74WohIk1X",
    "papermill": {
     "duration": 0.143903,
     "end_time": "2024-01-11T18:41:32.582072",
     "exception": false,
     "start_time": "2024-01-11T18:41:32.438169",
     "status": "completed"
    },
    "tags": []
   },
   "outputs": [],
   "source": [
    "def quick_missing_imp(data, num_method=\"median\", cat_length=20, target=\"SalePrice\"):\n",
    "    variables_with_na = [col for col in data.columns if data[col].isnull().sum() > 0]\n",
    "    temp_target = data[target]\n",
    "\n",
    "    print(\"# BEFORE\")\n",
    "    print(data[variables_with_na].isnull().sum(), \"\\n\\n\")\n",
    "    data = data.apply(lambda x: x.fillna(x.mode()[0]) if (x.dtype == \"O\" and len(x.unique()) <= cat_length) else x, axis=0)\n",
    "\n",
    "    if num_method == \"mean\":\n",
    "        data = data.apply(lambda x: x.fillna(x.mean()) if x.dtype != \"O\" else x, axis=0)\n",
    "    elif num_method == \"median\":\n",
    "        data = data.apply(lambda x: x.fillna(x.median()) if x.dtype != \"O\" else x, axis=0)\n",
    "\n",
    "    data[target] = temp_target\n",
    "\n",
    "    print(\"# AFTER \\n Imputation method is 'MODE' for categorical variables!\")\n",
    "    print(\" Imputation method is '\" + num_method.upper() + \"' for numeric variables! \\n\")\n",
    "    print(data[variables_with_na].isnull().sum(), \"\\n\\n\")\n",
    "\n",
    "    return data"
   ]
  },
  {
   "cell_type": "code",
   "execution_count": null,
   "id": "00402450",
   "metadata": {
    "execution": {
     "iopub.execute_input": "2024-01-11T18:41:32.845757Z",
     "iopub.status.busy": "2024-01-11T18:41:32.845371Z",
     "iopub.status.idle": "2024-01-11T18:41:33.167341Z",
     "shell.execute_reply": "2024-01-11T18:41:33.165760Z"
    },
    "id": "w7HIJ2hjInpr",
    "outputId": "62873a5c-546f-427d-df7f-7502de602a0a",
    "papermill": {
     "duration": 0.455766,
     "end_time": "2024-01-11T18:41:33.169914",
     "exception": false,
     "start_time": "2024-01-11T18:41:32.714148",
     "status": "completed"
    },
    "tags": []
   },
   "outputs": [],
   "source": [
    "df = quick_missing_imp(df, num_method=\"median\", cat_length=17)"
   ]
  },
  {
   "cell_type": "code",
   "execution_count": null,
   "id": "a8c16917",
   "metadata": {
    "execution": {
     "iopub.execute_input": "2024-01-11T18:41:33.430946Z",
     "iopub.status.busy": "2024-01-11T18:41:33.430552Z",
     "iopub.status.idle": "2024-01-11T18:41:33.739297Z",
     "shell.execute_reply": "2024-01-11T18:41:33.738231Z"
    },
    "id": "QIguEjQjIsi2",
    "outputId": "ed5f49c3-0782-41cd-82d8-822214701d3b",
    "papermill": {
     "duration": 0.440525,
     "end_time": "2024-01-11T18:41:33.742874",
     "exception": false,
     "start_time": "2024-01-11T18:41:33.302349",
     "status": "completed"
    },
    "tags": []
   },
   "outputs": [],
   "source": [
    "def rare_analyser(dataframe, target, cat_cols):\n",
    "    for col in cat_cols:\n",
    "        print(col, \":\", len(dataframe[col].value_counts()))\n",
    "        print(pd.DataFrame({\"COUNT\": dataframe[col].value_counts(),\n",
    "                            \"RATIO\": dataframe[col].value_counts() / len(dataframe),\n",
    "                            \"TARGET_MEAN\": dataframe.groupby(col)[target].mean()}), end=\"\\n\\n\\n\")\n",
    "\n",
    "rare_analyser(df, \"SalePrice\", cat_cols)"
   ]
  },
  {
   "cell_type": "code",
   "execution_count": null,
   "id": "b96c43eb",
   "metadata": {
    "execution": {
     "iopub.execute_input": "2024-01-11T18:41:34.015619Z",
     "iopub.status.busy": "2024-01-11T18:41:34.015215Z",
     "iopub.status.idle": "2024-01-11T18:41:34.022736Z",
     "shell.execute_reply": "2024-01-11T18:41:34.021771Z"
    },
    "id": "EHMr8CYVI5IA",
    "papermill": {
     "duration": 0.14835,
     "end_time": "2024-01-11T18:41:34.024880",
     "exception": false,
     "start_time": "2024-01-11T18:41:33.876530",
     "status": "completed"
    },
    "tags": []
   },
   "outputs": [],
   "source": [
    "def rare_encoder(dataframe, rare_perc):\n",
    "    temp_df = dataframe.copy()\n",
    "\n",
    "    rare_columns = [col for col in temp_df.columns if temp_df[col].dtypes == 'O'\n",
    "                    and (temp_df[col].value_counts() / len(temp_df) < rare_perc).any(axis=None)]\n",
    "\n",
    "    for var in rare_columns:\n",
    "        tmp = temp_df[var].value_counts() / len(temp_df)\n",
    "        rare_labels = tmp[tmp < rare_perc].index\n",
    "        temp_df[var] = np.where(temp_df[var].isin(rare_labels), 'Rare', temp_df[var])\n",
    "\n",
    "    return temp_df"
   ]
  },
  {
   "cell_type": "code",
   "execution_count": null,
   "id": "0d8b12d3",
   "metadata": {
    "execution": {
     "iopub.execute_input": "2024-01-11T18:41:34.296153Z",
     "iopub.status.busy": "2024-01-11T18:41:34.295717Z",
     "iopub.status.idle": "2024-01-11T18:41:34.485054Z",
     "shell.execute_reply": "2024-01-11T18:41:34.483874Z"
    },
    "id": "KFCq_2bOJHY4",
    "outputId": "e02cc123-d394-4538-dc49-c382be0df490",
    "papermill": {
     "duration": 0.328252,
     "end_time": "2024-01-11T18:41:34.488408",
     "exception": false,
     "start_time": "2024-01-11T18:41:34.160156",
     "status": "completed"
    },
    "tags": []
   },
   "outputs": [],
   "source": [
    "rare_encoder(df,0.01)"
   ]
  },
  {
   "cell_type": "code",
   "execution_count": null,
   "id": "87fae08d",
   "metadata": {
    "execution": {
     "iopub.execute_input": "2024-01-11T18:41:34.776632Z",
     "iopub.status.busy": "2024-01-11T18:41:34.776222Z",
     "iopub.status.idle": "2024-01-11T18:41:34.820106Z",
     "shell.execute_reply": "2024-01-11T18:41:34.819154Z"
    },
    "id": "E7gPVXIOJJyb",
    "papermill": {
     "duration": 0.187657,
     "end_time": "2024-01-11T18:41:34.822611",
     "exception": false,
     "start_time": "2024-01-11T18:41:34.634954",
     "status": "completed"
    },
    "tags": []
   },
   "outputs": [],
   "source": [
    "df[\"NEW_1st*GrLiv\"] = df[\"1stFlrSF\"] * df[\"GrLivArea\"]\n",
    "\n",
    "df[\"NEW_Garage*GrLiv\"] = (df[\"GarageArea\"] * df[\"GrLivArea\"])\n",
    "\n",
    "df[\"TotalQual\"] = df[[\"OverallQual\", \"OverallCond\", \"ExterQual\", \"ExterCond\", \"BsmtCond\", \"BsmtFinType1\",\"BsmtFinType2\", \"HeatingQC\",\n",
    "                      \"KitchenQual\", \"Functional\", \"FireplaceQu\", \"GarageQual\", \"GarageCond\", \"Fence\"]].sum()\n",
    "\n",
    "\n",
    "# Total Floor\n",
    "df[\"NEW_TotalFlrSF\"] = df[\"1stFlrSF\"] + df[\"2ndFlrSF\"]\n",
    "\n",
    "# Total Finished Basement Area\n",
    "df[\"NEW_TotalBsmtFin\"] = df.BsmtFinSF1 + df.BsmtFinSF2\n",
    "\n",
    "# Porch Area\n",
    "df[\"NEW_PorchArea\"] = df.OpenPorchSF + df.EnclosedPorch + df.ScreenPorch + df[\"3SsnPorch\"] + df.WoodDeckSF\n",
    "\n",
    "# Total House Area\n",
    "df[\"NEW_TotalHouseArea\"] = df.NEW_TotalFlrSF + df.TotalBsmtSF\n",
    "\n",
    "df[\"NEW_TotalSqFeet\"] = df.GrLivArea + df.TotalBsmtSF\n",
    "\n",
    "\n",
    "# Lot Ratio\n",
    "df[\"NEW_LotRatio\"] = df.GrLivArea / df.LotArea\n",
    "\n",
    "df[\"NEW_RatioArea\"] = df.NEW_TotalHouseArea / df.LotArea\n",
    "\n",
    "df[\"NEW_GarageLotRatio\"] = df.GarageArea / df.LotArea\n",
    "\n",
    "# MasVnrArea\n",
    "df[\"NEW_MasVnrRatio\"] = df.MasVnrArea / df.NEW_TotalHouseArea\n",
    "\n",
    "# Dif Area\n",
    "df[\"NEW_DifArea\"] = (df.LotArea - df[\"1stFlrSF\"] - df.GarageArea - df.NEW_PorchArea - df.WoodDeckSF)\n",
    "\n",
    "\n",
    "df[\"NEW_OverallGrade\"] = df[\"OverallQual\"] * df[\"OverallCond\"]\n",
    "\n",
    "\n",
    "df[\"NEW_Restoration\"] = df.YearRemodAdd - df.YearBuilt\n",
    "\n",
    "df[\"NEW_HouseAge\"] = df.YrSold - df.YearBuilt\n",
    "\n",
    "df[\"NEW_RestorationAge\"] = df.YrSold - df.YearRemodAdd\n",
    "\n",
    "df[\"NEW_GarageAge\"] = df.GarageYrBlt - df.YearBuilt\n",
    "\n",
    "df[\"NEW_GarageRestorationAge\"] = np.abs(df.GarageYrBlt - df.YearRemodAdd)\n",
    "\n",
    "df[\"NEW_GarageSold\"] = df.YrSold - df.GarageYrBlt"
   ]
  },
  {
   "cell_type": "code",
   "execution_count": null,
   "id": "387077c2",
   "metadata": {
    "execution": {
     "iopub.execute_input": "2024-01-11T18:41:35.091541Z",
     "iopub.status.busy": "2024-01-11T18:41:35.090953Z",
     "iopub.status.idle": "2024-01-11T18:41:35.101114Z",
     "shell.execute_reply": "2024-01-11T18:41:35.099992Z"
    },
    "id": "CuvsudJkJZKg",
    "papermill": {
     "duration": 0.147019,
     "end_time": "2024-01-11T18:41:35.103327",
     "exception": false,
     "start_time": "2024-01-11T18:41:34.956308",
     "status": "completed"
    },
    "tags": []
   },
   "outputs": [],
   "source": [
    "drop_list = [\"Street\", \"Alley\", \"LandContour\", \"Utilities\", \"LandSlope\",\"Heating\", \"PoolQC\", \"MiscFeature\",\"Neighborhood\"]\n",
    "\n",
    "df.drop(drop_list, axis=1, inplace=True)"
   ]
  },
  {
   "cell_type": "code",
   "execution_count": null,
   "id": "ea7e3b75",
   "metadata": {
    "execution": {
     "iopub.execute_input": "2024-01-11T18:41:35.378477Z",
     "iopub.status.busy": "2024-01-11T18:41:35.377907Z",
     "iopub.status.idle": "2024-01-11T18:41:35.429436Z",
     "shell.execute_reply": "2024-01-11T18:41:35.428218Z"
    },
    "id": "EBSqWCt8JbNF",
    "outputId": "76c4950f-2cab-4430-8989-ec9338b04722",
    "papermill": {
     "duration": 0.192542,
     "end_time": "2024-01-11T18:41:35.431782",
     "exception": false,
     "start_time": "2024-01-11T18:41:35.239240",
     "status": "completed"
    },
    "tags": []
   },
   "outputs": [],
   "source": [
    "cat_cols, cat_but_car, num_cols = grab_col_names(df)\n",
    "\n",
    "def label_encoder(dataframe, binary_col):\n",
    "    labelencoder = LabelEncoder()\n",
    "    dataframe[binary_col] = labelencoder.fit_transform(dataframe[binary_col])\n",
    "    return dataframe"
   ]
  },
  {
   "cell_type": "code",
   "execution_count": null,
   "id": "185454c1",
   "metadata": {
    "execution": {
     "iopub.execute_input": "2024-01-11T18:41:35.712763Z",
     "iopub.status.busy": "2024-01-11T18:41:35.712365Z",
     "iopub.status.idle": "2024-01-11T18:41:35.730396Z",
     "shell.execute_reply": "2024-01-11T18:41:35.729520Z"
    },
    "id": "L0L-_m_3JdEj",
    "papermill": {
     "duration": 0.161743,
     "end_time": "2024-01-11T18:41:35.732787",
     "exception": false,
     "start_time": "2024-01-11T18:41:35.571044",
     "status": "completed"
    },
    "tags": []
   },
   "outputs": [],
   "source": [
    "binary_cols = [col for col in df.columns if df[col].dtypes == \"O\" and len(df[col].unique()) == 2]\n",
    "\n",
    "for col in binary_cols:\n",
    "    label_encoder(df, col)"
   ]
  },
  {
   "cell_type": "code",
   "execution_count": null,
   "id": "a15a9542",
   "metadata": {
    "execution": {
     "iopub.execute_input": "2024-01-11T18:41:36.009156Z",
     "iopub.status.busy": "2024-01-11T18:41:36.008157Z",
     "iopub.status.idle": "2024-01-11T18:41:36.075055Z",
     "shell.execute_reply": "2024-01-11T18:41:36.074159Z"
    },
    "id": "-XkO6ZImJfbI",
    "papermill": {
     "duration": 0.206732,
     "end_time": "2024-01-11T18:41:36.077489",
     "exception": false,
     "start_time": "2024-01-11T18:41:35.870757",
     "status": "completed"
    },
    "tags": []
   },
   "outputs": [],
   "source": [
    "def one_hot_encoder(dataframe, categorical_cols, drop_first=True):\n",
    "    dataframe = pd.get_dummies(dataframe, columns=categorical_cols, drop_first=drop_first)\n",
    "    return dataframe\n",
    "df = one_hot_encoder(df, cat_cols, drop_first=True)"
   ]
  },
  {
   "cell_type": "code",
   "execution_count": null,
   "id": "f9019bde",
   "metadata": {
    "execution": {
     "iopub.execute_input": "2024-01-11T18:41:36.354052Z",
     "iopub.status.busy": "2024-01-11T18:41:36.353639Z",
     "iopub.status.idle": "2024-01-11T18:41:36.525586Z",
     "shell.execute_reply": "2024-01-11T18:41:36.524256Z"
    },
    "id": "scYEtDjxhNNh",
    "outputId": "25ff2394-7391-4a42-8d03-452347382667",
    "papermill": {
     "duration": 0.314402,
     "end_time": "2024-01-11T18:41:36.529100",
     "exception": false,
     "start_time": "2024-01-11T18:41:36.214698",
     "status": "completed"
    },
    "tags": []
   },
   "outputs": [],
   "source": [
    "df.head()"
   ]
  },
  {
   "cell_type": "code",
   "execution_count": null,
   "id": "d2fb2ecc",
   "metadata": {
    "execution": {
     "iopub.execute_input": "2024-01-11T18:41:36.805825Z",
     "iopub.status.busy": "2024-01-11T18:41:36.805403Z",
     "iopub.status.idle": "2024-01-11T18:41:37.021171Z",
     "shell.execute_reply": "2024-01-11T18:41:37.020127Z"
    },
    "id": "9Jm5DBtihweO",
    "outputId": "13d76712-26c3-4344-d2dc-74fe0193df4e",
    "papermill": {
     "duration": 0.360924,
     "end_time": "2024-01-11T18:41:37.027069",
     "exception": false,
     "start_time": "2024-01-11T18:41:36.666145",
     "status": "completed"
    },
    "tags": []
   },
   "outputs": [],
   "source": [
    "df[df['SalePrice'].notnull()]"
   ]
  },
  {
   "cell_type": "code",
   "execution_count": null,
   "id": "3abe0b61",
   "metadata": {
    "execution": {
     "iopub.execute_input": "2024-01-11T18:41:37.317136Z",
     "iopub.status.busy": "2024-01-11T18:41:37.316753Z",
     "iopub.status.idle": "2024-01-11T18:41:37.519352Z",
     "shell.execute_reply": "2024-01-11T18:41:37.518361Z"
    },
    "id": "M9nT-bt0h4Xy",
    "outputId": "f3202a38-b350-4d66-cdba-7d432e8e8c42",
    "papermill": {
     "duration": 0.352619,
     "end_time": "2024-01-11T18:41:37.525262",
     "exception": false,
     "start_time": "2024-01-11T18:41:37.172643",
     "status": "completed"
    },
    "tags": []
   },
   "outputs": [],
   "source": [
    "df[df['SalePrice'].isnull()]"
   ]
  },
  {
   "cell_type": "code",
   "execution_count": null,
   "id": "00d8695e",
   "metadata": {
    "execution": {
     "iopub.execute_input": "2024-01-11T18:41:37.819218Z",
     "iopub.status.busy": "2024-01-11T18:41:37.818819Z",
     "iopub.status.idle": "2024-01-11T18:41:37.831065Z",
     "shell.execute_reply": "2024-01-11T18:41:37.829909Z"
    },
    "id": "D4UhqDeaJhIQ",
    "papermill": {
     "duration": 0.157109,
     "end_time": "2024-01-11T18:41:37.833314",
     "exception": false,
     "start_time": "2024-01-11T18:41:37.676205",
     "status": "completed"
    },
    "tags": []
   },
   "outputs": [],
   "source": [
    "train_df = df[df['SalePrice'].notnull()]\n",
    "test_df = df[df['SalePrice'].isnull()]"
   ]
  },
  {
   "cell_type": "code",
   "execution_count": null,
   "id": "947eb2be",
   "metadata": {
    "execution": {
     "iopub.execute_input": "2024-01-11T18:41:38.122009Z",
     "iopub.status.busy": "2024-01-11T18:41:38.121401Z",
     "iopub.status.idle": "2024-01-11T18:41:38.349531Z",
     "shell.execute_reply": "2024-01-11T18:41:38.348557Z"
    },
    "id": "LXWT6HsbKlLZ",
    "outputId": "51716846-d0fd-4afd-c601-6bb5935dd652",
    "papermill": {
     "duration": 0.379688,
     "end_time": "2024-01-11T18:41:38.356214",
     "exception": false,
     "start_time": "2024-01-11T18:41:37.976526",
     "status": "completed"
    },
    "tags": []
   },
   "outputs": [],
   "source": [
    "test_df"
   ]
  },
  {
   "cell_type": "code",
   "execution_count": null,
   "id": "fb624e7b",
   "metadata": {
    "execution": {
     "iopub.execute_input": "2024-01-11T18:41:38.671352Z",
     "iopub.status.busy": "2024-01-11T18:41:38.670909Z",
     "iopub.status.idle": "2024-01-11T18:41:38.680536Z",
     "shell.execute_reply": "2024-01-11T18:41:38.679393Z"
    },
    "id": "Q3HFD_pSJ_3M",
    "papermill": {
     "duration": 0.166711,
     "end_time": "2024-01-11T18:41:38.683264",
     "exception": false,
     "start_time": "2024-01-11T18:41:38.516553",
     "status": "completed"
    },
    "tags": []
   },
   "outputs": [],
   "source": [
    "y = train_df['SalePrice']\n",
    "X = train_df.drop([\"Id\", \"SalePrice\"], axis=1)"
   ]
  },
  {
   "cell_type": "code",
   "execution_count": null,
   "id": "927273e3",
   "metadata": {
    "execution": {
     "iopub.execute_input": "2024-01-11T18:41:38.992702Z",
     "iopub.status.busy": "2024-01-11T18:41:38.991654Z",
     "iopub.status.idle": "2024-01-11T18:41:39.006471Z",
     "shell.execute_reply": "2024-01-11T18:41:39.005456Z"
    },
    "id": "ul0mVekCKktt",
    "papermill": {
     "duration": 0.167949,
     "end_time": "2024-01-11T18:41:39.008981",
     "exception": false,
     "start_time": "2024-01-11T18:41:38.841032",
     "status": "completed"
    },
    "tags": []
   },
   "outputs": [],
   "source": [
    "X_train, X_test, y_train, y_test = train_test_split(X, y, test_size=0.20, random_state=17)"
   ]
  },
  {
   "cell_type": "code",
   "execution_count": null,
   "id": "71effedf",
   "metadata": {
    "execution": {
     "iopub.execute_input": "2024-01-11T18:41:39.337204Z",
     "iopub.status.busy": "2024-01-11T18:41:39.336773Z",
     "iopub.status.idle": "2024-01-11T18:41:39.346373Z",
     "shell.execute_reply": "2024-01-11T18:41:39.345403Z"
    },
    "id": "1rFkyV5IMT8h",
    "papermill": {
     "duration": 0.176129,
     "end_time": "2024-01-11T18:41:39.348657",
     "exception": false,
     "start_time": "2024-01-11T18:41:39.172528",
     "status": "completed"
    },
    "tags": []
   },
   "outputs": [],
   "source": [
    "models = [('LR', LinearRegression()),\n",
    "          ('KNN', KNeighborsRegressor()),\n",
    "          ('CART', DecisionTreeRegressor()),\n",
    "          ('RF', RandomForestRegressor(n_estimators=200)),\n",
    "          ('SVR', SVR()),\n",
    "          ('GBM', GradientBoostingRegressor(n_estimators=200, learning_rate=0.08)),\n",
    "          (\"XGBoost\", XGBRegressor()),\n",
    "          (\"LightGBM\", LGBMRegressor()),\n",
    "          (\"CatBoost\", CatBoostRegressor(learning_rate=0.08,verbose=False))]"
   ]
  },
  {
   "cell_type": "code",
   "execution_count": null,
   "id": "59ebedb3",
   "metadata": {
    "execution": {
     "iopub.execute_input": "2024-01-11T18:41:39.678842Z",
     "iopub.status.busy": "2024-01-11T18:41:39.677772Z",
     "iopub.status.idle": "2024-01-11T18:43:10.600152Z",
     "shell.execute_reply": "2024-01-11T18:43:10.599038Z"
    },
    "id": "mOCRCQ4LM_jf",
    "outputId": "de8b4db7-dc8b-4188-ee25-2b4726d3d879",
    "papermill": {
     "duration": 91.241164,
     "end_time": "2024-01-11T18:43:10.758220",
     "exception": false,
     "start_time": "2024-01-11T18:41:39.517056",
     "status": "completed"
    },
    "tags": []
   },
   "outputs": [],
   "source": [
    "for name, regressor in models:\n",
    "    rmse = np.mean(np.sqrt(-cross_val_score(regressor, X, y, cv=5, scoring=\"neg_mean_squared_error\")))\n",
    "    print(f\"RMSE: {round(rmse, 4)} ({name}) \")"
   ]
  },
  {
   "cell_type": "code",
   "execution_count": null,
   "id": "d0748718",
   "metadata": {
    "execution": {
     "iopub.execute_input": "2024-01-11T18:43:11.078485Z",
     "iopub.status.busy": "2024-01-11T18:43:11.077285Z",
     "iopub.status.idle": "2024-01-11T18:43:11.092797Z",
     "shell.execute_reply": "2024-01-11T18:43:11.091864Z"
    },
    "id": "ATp8LB9YNbNx",
    "papermill": {
     "duration": 0.177373,
     "end_time": "2024-01-11T18:43:11.095480",
     "exception": false,
     "start_time": "2024-01-11T18:43:10.918107",
     "status": "completed"
    },
    "tags": []
   },
   "outputs": [],
   "source": [
    "train_df = df[df['SalePrice'].notnull()]\n",
    "test_df = df[df['SalePrice'].isnull()]\n",
    "\n",
    "y = np.log1p(train_df['SalePrice'])\n",
    "X = train_df.drop([\"Id\", \"SalePrice\"], axis=1)\n"
   ]
  },
  {
   "cell_type": "code",
   "execution_count": null,
   "id": "50558631",
   "metadata": {
    "execution": {
     "iopub.execute_input": "2024-01-11T18:43:11.442717Z",
     "iopub.status.busy": "2024-01-11T18:43:11.442320Z",
     "iopub.status.idle": "2024-01-11T18:43:11.668780Z",
     "shell.execute_reply": "2024-01-11T18:43:11.667689Z"
    },
    "id": "iGLeBlCAbJBW",
    "outputId": "6e8433f1-8134-42f6-dd6f-f7ac9ee3c2c1",
    "papermill": {
     "duration": 0.412102,
     "end_time": "2024-01-11T18:43:11.674962",
     "exception": false,
     "start_time": "2024-01-11T18:43:11.262860",
     "status": "completed"
    },
    "tags": []
   },
   "outputs": [],
   "source": [
    "test_df"
   ]
  },
  {
   "cell_type": "code",
   "execution_count": null,
   "id": "a5095a93",
   "metadata": {
    "execution": {
     "iopub.execute_input": "2024-01-11T18:43:12.006182Z",
     "iopub.status.busy": "2024-01-11T18:43:12.005007Z",
     "iopub.status.idle": "2024-01-11T18:43:12.019252Z",
     "shell.execute_reply": "2024-01-11T18:43:12.017903Z"
    },
    "id": "S4XO0X9dOZ63",
    "papermill": {
     "duration": 0.180826,
     "end_time": "2024-01-11T18:43:12.021669",
     "exception": false,
     "start_time": "2024-01-11T18:43:11.840843",
     "status": "completed"
    },
    "tags": []
   },
   "outputs": [],
   "source": [
    "X_train, X_test, y_train, y_test = train_test_split(X, y, test_size=0.20, random_state=17)"
   ]
  },
  {
   "cell_type": "code",
   "execution_count": null,
   "id": "76fc0b18",
   "metadata": {
    "execution": {
     "iopub.execute_input": "2024-01-11T18:43:12.343841Z",
     "iopub.status.busy": "2024-01-11T18:43:12.342657Z",
     "iopub.status.idle": "2024-01-11T18:43:18.683310Z",
     "shell.execute_reply": "2024-01-11T18:43:18.682275Z"
    },
    "id": "mK5Hk2BOOcfd",
    "papermill": {
     "duration": 6.504539,
     "end_time": "2024-01-11T18:43:18.685949",
     "exception": false,
     "start_time": "2024-01-11T18:43:12.181410",
     "status": "completed"
    },
    "tags": []
   },
   "outputs": [],
   "source": [
    "catboost = CatBoostRegressor(verbose=False).fit(X_train, y_train)\n",
    "y_pred = catboost.predict(X_test)"
   ]
  },
  {
   "cell_type": "code",
   "execution_count": null,
   "id": "d8a074c8",
   "metadata": {
    "execution": {
     "iopub.execute_input": "2024-01-11T18:43:19.005622Z",
     "iopub.status.busy": "2024-01-11T18:43:19.005205Z",
     "iopub.status.idle": "2024-01-11T18:43:19.010696Z",
     "shell.execute_reply": "2024-01-11T18:43:19.009660Z"
    },
    "id": "w6-QXvI8OeUp",
    "outputId": "09f2ee21-054c-4b29-98de-0942f36c7515",
    "papermill": {
     "duration": 0.16876,
     "end_time": "2024-01-11T18:43:19.012859",
     "exception": false,
     "start_time": "2024-01-11T18:43:18.844099",
     "status": "completed"
    },
    "tags": []
   },
   "outputs": [],
   "source": [
    "y_pred = np.expm1(y_pred)\n",
    "y_test = np.expm1(y_test)"
   ]
  },
  {
   "cell_type": "code",
   "execution_count": null,
   "id": "247d1d91",
   "metadata": {
    "execution": {
     "iopub.execute_input": "2024-01-11T18:43:19.335684Z",
     "iopub.status.busy": "2024-01-11T18:43:19.335288Z",
     "iopub.status.idle": "2024-01-11T18:43:19.343267Z",
     "shell.execute_reply": "2024-01-11T18:43:19.342250Z"
    },
    "id": "iYO6YrSEOiPc",
    "outputId": "858cae22-2bea-4bab-8b9f-d324a8246f5f",
    "papermill": {
     "duration": 0.174022,
     "end_time": "2024-01-11T18:43:19.345366",
     "exception": false,
     "start_time": "2024-01-11T18:43:19.171344",
     "status": "completed"
    },
    "tags": []
   },
   "outputs": [],
   "source": [
    "np.sqrt(mean_squared_error(y_test, y_pred))"
   ]
  },
  {
   "cell_type": "code",
   "execution_count": null,
   "id": "0b9c38d4",
   "metadata": {
    "execution": {
     "iopub.execute_input": "2024-01-11T18:43:19.665211Z",
     "iopub.status.busy": "2024-01-11T18:43:19.664201Z",
     "iopub.status.idle": "2024-01-11T18:43:51.892363Z",
     "shell.execute_reply": "2024-01-11T18:43:51.891283Z"
    },
    "id": "pKkCl1TjOku3",
    "outputId": "d3a0be47-490c-4752-dcf6-06cab30f4c47",
    "papermill": {
     "duration": 32.556178,
     "end_time": "2024-01-11T18:43:52.057819",
     "exception": false,
     "start_time": "2024-01-11T18:43:19.501641",
     "status": "completed"
    },
    "tags": []
   },
   "outputs": [],
   "source": [
    "catboost_model = CatBoostRegressor(verbose=False,random_state=46)\n",
    "\n",
    "rmse = np.mean(np.sqrt(-cross_val_score(catboost_model, X, y, cv=5, scoring=\"neg_mean_squared_error\")))\n",
    "rmse"
   ]
  },
  {
   "cell_type": "code",
   "execution_count": null,
   "id": "3bb499bd",
   "metadata": {
    "execution": {
     "iopub.execute_input": "2024-01-11T18:43:52.386875Z",
     "iopub.status.busy": "2024-01-11T18:43:52.385856Z",
     "iopub.status.idle": "2024-01-11T18:48:11.856187Z",
     "shell.execute_reply": "2024-01-11T18:48:11.854866Z"
    },
    "id": "19M-E3imPCrJ",
    "papermill": {
     "duration": 259.63844,
     "end_time": "2024-01-11T18:48:11.859990",
     "exception": false,
     "start_time": "2024-01-11T18:43:52.221550",
     "status": "completed"
    },
    "tags": []
   },
   "outputs": [],
   "source": [
    "catboost_params = {\"learning_rate\": [0.01, 0.06, 0.1],\n",
    "               \"n_estimators\": [200, 400, 500, 1000, 1500]}\n",
    "catboost_gs_best = GridSearchCV(catboost_model,\n",
    "                            catboost_params,\n",
    "                            cv=3,\n",
    "                            n_jobs=-1,\n",
    "                            verbose=False).fit(X_train, y_train)"
   ]
  },
  {
   "cell_type": "code",
   "execution_count": null,
   "id": "a6e84c74",
   "metadata": {
    "execution": {
     "iopub.execute_input": "2024-01-11T18:48:12.190184Z",
     "iopub.status.busy": "2024-01-11T18:48:12.189712Z",
     "iopub.status.idle": "2024-01-11T18:48:21.536302Z",
     "shell.execute_reply": "2024-01-11T18:48:21.535166Z"
    },
    "id": "GpjAYtroO1ha",
    "outputId": "41fd2a15-f76f-4ba6-f48b-ad632b1a3251",
    "papermill": {
     "duration": 9.509819,
     "end_time": "2024-01-11T18:48:21.538400",
     "exception": false,
     "start_time": "2024-01-11T18:48:12.028581",
     "status": "completed"
    },
    "tags": []
   },
   "outputs": [],
   "source": [
    "final_model = catboost_model.set_params(**catboost_gs_best.best_params_).fit(X, y)\n",
    "rmse"
   ]
  },
  {
   "cell_type": "code",
   "execution_count": null,
   "id": "ef20af24",
   "metadata": {
    "execution": {
     "iopub.execute_input": "2024-01-11T18:48:21.850639Z",
     "iopub.status.busy": "2024-01-11T18:48:21.850237Z",
     "iopub.status.idle": "2024-01-11T18:49:08.001942Z",
     "shell.execute_reply": "2024-01-11T18:49:08.000852Z"
    },
    "id": "-zczZJMkO3eP",
    "papermill": {
     "duration": 46.31015,
     "end_time": "2024-01-11T18:49:08.004884",
     "exception": false,
     "start_time": "2024-01-11T18:48:21.694734",
     "status": "completed"
    },
    "tags": []
   },
   "outputs": [],
   "source": [
    "rmse = np.mean(np.sqrt(-cross_val_score(final_model, X, y, cv=5, scoring=\"neg_mean_squared_error\")))"
   ]
  },
  {
   "cell_type": "code",
   "execution_count": null,
   "id": "de54c755",
   "metadata": {
    "execution": {
     "iopub.execute_input": "2024-01-11T18:49:08.330228Z",
     "iopub.status.busy": "2024-01-11T18:49:08.329819Z",
     "iopub.status.idle": "2024-01-11T18:49:08.336441Z",
     "shell.execute_reply": "2024-01-11T18:49:08.335438Z"
    },
    "papermill": {
     "duration": 0.172071,
     "end_time": "2024-01-11T18:49:08.338502",
     "exception": false,
     "start_time": "2024-01-11T18:49:08.166431",
     "status": "completed"
    },
    "tags": []
   },
   "outputs": [],
   "source": [
    "rmse"
   ]
  },
  {
   "cell_type": "code",
   "execution_count": null,
   "id": "b8a752d6",
   "metadata": {
    "execution": {
     "iopub.execute_input": "2024-01-11T18:49:08.660183Z",
     "iopub.status.busy": "2024-01-11T18:49:08.659371Z",
     "iopub.status.idle": "2024-01-11T18:49:08.667112Z",
     "shell.execute_reply": "2024-01-11T18:49:08.666055Z"
    },
    "id": "2m6c3eSkPjxk",
    "papermill": {
     "duration": 0.170514,
     "end_time": "2024-01-11T18:49:08.669436",
     "exception": false,
     "start_time": "2024-01-11T18:49:08.498922",
     "status": "completed"
    },
    "tags": []
   },
   "outputs": [],
   "source": [
    "def plot_importance(model, features, num=len(X), save=False):\n",
    "\n",
    "    feature_imp = pd.DataFrame({\"Value\": model.feature_importances_, \"Feature\": features.columns})\n",
    "    plt.figure(figsize=(10, 30))\n",
    "    sns.set(font_scale=0.5)\n",
    "    sns.barplot(x=\"Value\", y=\"Feature\", data=feature_imp.sort_values(by=\"Value\", ascending=False)[0:num])\n",
    "    plt.title(\"Features\")\n",
    "    plt.tight_layout()\n",
    "    plt.show()\n",
    "    if save:\n",
    "        plt.savefig(\"importances.png\")"
   ]
  },
  {
   "cell_type": "code",
   "execution_count": null,
   "id": "d6ed29ba",
   "metadata": {
    "execution": {
     "iopub.execute_input": "2024-01-11T18:49:08.990165Z",
     "iopub.status.busy": "2024-01-11T18:49:08.989575Z",
     "iopub.status.idle": "2024-01-11T18:49:20.163117Z",
     "shell.execute_reply": "2024-01-11T18:49:20.162031Z"
    },
    "id": "JRqCJi9UPnab",
    "outputId": "a1792b79-98e0-415a-9a70-fefc6b633096",
    "papermill": {
     "duration": 11.33889,
     "end_time": "2024-01-11T18:49:20.168773",
     "exception": false,
     "start_time": "2024-01-11T18:49:08.829883",
     "status": "completed"
    },
    "tags": []
   },
   "outputs": [],
   "source": [
    "model = CatBoostRegressor(verbose=0)\n",
    "model.fit(X, y)\n",
    "\n",
    "plot_importance(model, X)"
   ]
  },
  {
   "cell_type": "code",
   "execution_count": null,
   "id": "3a1a5ccb",
   "metadata": {
    "execution": {
     "iopub.execute_input": "2024-01-11T18:49:20.514417Z",
     "iopub.status.busy": "2024-01-11T18:49:20.513085Z",
     "iopub.status.idle": "2024-01-11T18:49:27.210141Z",
     "shell.execute_reply": "2024-01-11T18:49:27.208929Z"
    },
    "id": "gFeiW6UcPwlS",
    "papermill": {
     "duration": 6.871109,
     "end_time": "2024-01-11T18:49:27.212841",
     "exception": false,
     "start_time": "2024-01-11T18:49:20.341732",
     "status": "completed"
    },
    "tags": []
   },
   "outputs": [],
   "source": [
    "model = CatBoostRegressor(verbose=0)\n",
    "model.fit(X_train, y_train)\n",
    "predictions = model.predict(test_df.drop([\"Id\",\"SalePrice\"], axis=1))"
   ]
  },
  {
   "cell_type": "code",
   "execution_count": null,
   "id": "824d6a7c",
   "metadata": {
    "execution": {
     "iopub.execute_input": "2024-01-11T18:49:27.554703Z",
     "iopub.status.busy": "2024-01-11T18:49:27.554003Z",
     "iopub.status.idle": "2024-01-11T18:49:27.561606Z",
     "shell.execute_reply": "2024-01-11T18:49:27.560554Z"
    },
    "id": "Hdpbx-X-jj6o",
    "outputId": "165d72e5-d98e-4eac-abce-22ef36b6a21d",
    "papermill": {
     "duration": 0.182251,
     "end_time": "2024-01-11T18:49:27.563788",
     "exception": false,
     "start_time": "2024-01-11T18:49:27.381537",
     "status": "completed"
    },
    "tags": []
   },
   "outputs": [],
   "source": [
    "predictions.shape"
   ]
  },
  {
   "cell_type": "code",
   "execution_count": null,
   "id": "5560e3c5",
   "metadata": {
    "execution": {
     "iopub.execute_input": "2024-01-11T18:49:27.904995Z",
     "iopub.status.busy": "2024-01-11T18:49:27.904365Z",
     "iopub.status.idle": "2024-01-11T18:49:27.911518Z",
     "shell.execute_reply": "2024-01-11T18:49:27.910474Z"
    },
    "id": "dk5OhLWdjDRH",
    "outputId": "a5f9b3a5-807f-49fb-e95e-2ff33f3c821d",
    "papermill": {
     "duration": 0.180357,
     "end_time": "2024-01-11T18:49:27.913874",
     "exception": false,
     "start_time": "2024-01-11T18:49:27.733517",
     "status": "completed"
    },
    "tags": []
   },
   "outputs": [],
   "source": [
    "predictions = np.expm1(predictions)\n",
    "y_test = np.expm1(y_test)"
   ]
  },
  {
   "cell_type": "code",
   "execution_count": null,
   "id": "7bc436b3",
   "metadata": {
    "execution": {
     "iopub.execute_input": "2024-01-11T18:49:28.254956Z",
     "iopub.status.busy": "2024-01-11T18:49:28.254547Z",
     "iopub.status.idle": "2024-01-11T18:49:28.262039Z",
     "shell.execute_reply": "2024-01-11T18:49:28.261055Z"
    },
    "papermill": {
     "duration": 0.180187,
     "end_time": "2024-01-11T18:49:28.264294",
     "exception": false,
     "start_time": "2024-01-11T18:49:28.084107",
     "status": "completed"
    },
    "tags": []
   },
   "outputs": [],
   "source": [
    "predictions"
   ]
  },
  {
   "cell_type": "code",
   "execution_count": null,
   "id": "d8ea4e6b",
   "metadata": {
    "execution": {
     "iopub.execute_input": "2024-01-11T18:49:28.613011Z",
     "iopub.status.busy": "2024-01-11T18:49:28.612048Z",
     "iopub.status.idle": "2024-01-11T18:49:28.634102Z",
     "shell.execute_reply": "2024-01-11T18:49:28.632941Z"
    },
    "papermill": {
     "duration": 0.198152,
     "end_time": "2024-01-11T18:49:28.636613",
     "exception": false,
     "start_time": "2024-01-11T18:49:28.438461",
     "status": "completed"
    },
    "tags": []
   },
   "outputs": [],
   "source": [
    "sub=pd.read_csv(\"/kaggle/input/house-prices-advanced-regression-techniques/sample_submission.csv\")\n",
    "sub.head()"
   ]
  }
 ],
 "metadata": {
  "accelerator": "GPU",
  "colab": {
   "gpuType": "T4",
   "provenance": []
  },
  "kaggle": {
   "accelerator": "nvidiaTeslaT4",
   "dataSources": [
    {
     "databundleVersionId": 868283,
     "sourceId": 5407,
     "sourceType": "competition"
    }
   ],
   "dockerImageVersionId": 30626,
   "isGpuEnabled": true,
   "isInternetEnabled": true,
   "language": "python",
   "sourceType": "notebook"
  },
  "kernelspec": {
   "display_name": "Python 3",
   "language": "python",
   "name": "python3"
  },
  "language_info": {
   "codemirror_mode": {
    "name": "ipython",
    "version": 3
   },
   "file_extension": ".py",
   "mimetype": "text/x-python",
   "name": "python",
   "nbconvert_exporter": "python",
   "pygments_lexer": "ipython3",
   "version": "3.12.1"
  },
  "papermill": {
   "default_parameters": {},
   "duration": 547.121698,
   "end_time": "2024-01-11T18:49:31.430320",
   "environment_variables": {},
   "exception": null,
   "input_path": "__notebook__.ipynb",
   "output_path": "__notebook__.ipynb",
   "parameters": {},
   "start_time": "2024-01-11T18:40:24.308622",
   "version": "2.4.0"
  }
 },
 "nbformat": 4,
 "nbformat_minor": 5
}
